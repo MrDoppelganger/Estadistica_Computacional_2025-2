{
 "cells": [
  {
   "cell_type": "markdown",
   "id": "bbd0ca66",
   "metadata": {},
   "source": [
    "<style>\n",
    "  .centrado {\n",
    "    text-align: center;\n",
    "  }\n",
    "</style>\n",
    "\n",
    "<h3 class=\"centrado\">\n",
    "  Proyecto: <b><u>World University Rankings(2024-5)</b></u>\n",
    "</h3>\n",
    "\n",
    "---"
   ]
  }
 ],
 "metadata": {
  "language_info": {
   "name": "python"
  }
 },
 "nbformat": 4,
 "nbformat_minor": 5
}
