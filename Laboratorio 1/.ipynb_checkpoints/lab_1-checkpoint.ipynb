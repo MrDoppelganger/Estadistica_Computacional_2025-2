{
 "cells": [
  {
   "cell_type": "markdown",
   "id": "bbd0ca66",
   "metadata": {},
   "source": [
    "<style>\n",
    "  .centrado {\n",
    "    text-align: center;\n",
    "  }\n",
    "</style>\n",
    "\n",
    "<h3 class = \"centrado\">\n",
    "  Proyecto: <b><u>World University Rankings(2024-5)</b></u>\n",
    "</h3>\n",
    "<h4 class = \"centrado\">\n",
    "  Laboratorio 1\n",
    "</h4>\n",
    "\n",
    "---\n",
    "\n",
    "<h5 class = \"centrado\">\n",
    "  <b> Grupo 4: </b>  &nbsp; Vicente Rodriguez Rogers &nbsp; - &nbsp; Cristian Rioseco\n",
    "                    &nbsp; - &nbsp; Isidora Lemunao&nbsp;  -  &nbsp;Martin XXXXXXXX \n",
    "</h5>\n",
    "\n",
    "***"
   ]
  }
 ],
 "metadata": {
  "language_info": {
   "name": "python"
  }
 },
 "nbformat": 4,
 "nbformat_minor": 5
}
